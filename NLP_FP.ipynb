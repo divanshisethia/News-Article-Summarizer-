{
 "cells": [
  {
   "cell_type": "code",
   "execution_count": 7,
   "id": "d9ad320c-6dd2-477c-b0bd-4e4a41205417",
   "metadata": {},
   "outputs": [
    {
     "name": "stdout",
     "output_type": "stream",
     "text": [
      "Dataset Preview:\n",
      "                                         id  \\\n",
      "0  92c514c913c0bdfe25341af9fd72b29db544099b   \n",
      "1  2003841c7dc0e7c5b1a248f9cd536d727f27a45a   \n",
      "2  91b7d2311527f5c2b63a65ca98d21d9c92485149   \n",
      "3  caabf9cbdf96eb1410295a673e953d304391bfbb   \n",
      "4  3da746a7d9afcaa659088c8366ef6347fe6b53ea   \n",
      "\n",
      "                                             article  \\\n",
      "0  Ever noticed how plane seats appear to be gett...   \n",
      "1  A drunk teenage boy had to be rescued by secur...   \n",
      "2  Dougie Freedman is on the verge of agreeing a ...   \n",
      "3  Liverpool target Neto is also wanted by PSG an...   \n",
      "4  Bruce Jenner will break his silence in a two-h...   \n",
      "\n",
      "                                          highlights  \n",
      "0  Experts question if  packed out planes are put...  \n",
      "1  Drunk teenage boy climbed into lion enclosure ...  \n",
      "2  Nottingham Forest are close to extending Dougi...  \n",
      "3  Fiorentina goalkeeper Neto has been linked wit...  \n",
      "4  Tell-all interview with the reality TV star, 6...  \n",
      "\n",
      "Column Info:\n",
      "<class 'pandas.core.frame.DataFrame'>\n",
      "RangeIndex: 11490 entries, 0 to 11489\n",
      "Data columns (total 3 columns):\n",
      " #   Column      Non-Null Count  Dtype \n",
      "---  ------      --------------  ----- \n",
      " 0   id          11490 non-null  object\n",
      " 1   article     11490 non-null  object\n",
      " 2   highlights  11490 non-null  object\n",
      "dtypes: object(3)\n",
      "memory usage: 269.4+ KB\n",
      "None\n",
      "\n",
      "Missing Values:\n",
      "id            0\n",
      "article       0\n",
      "highlights    0\n",
      "dtype: int64\n"
     ]
    }
   ],
   "source": [
    "# STEP 1: Load and inspect dataset\n",
    "import pandas as pd\n",
    "\n",
    "# Load the dataset\n",
    "df = pd.read_csv(\"test.csv\")\n",
    "\n",
    "# Display first few rows\n",
    "print(\"Dataset Preview:\")\n",
    "print(df.head())\n",
    "\n",
    "# Check columns and missing values\n",
    "print(\"\\nColumn Info:\")\n",
    "print(df.info())\n",
    "\n",
    "print(\"\\nMissing Values:\")\n",
    "print(df.isnull().sum())"
   ]
  },
  {
   "cell_type": "code",
   "execution_count": 9,
   "id": "7446cc43-a712-4cb6-bc1f-8309baca639e",
   "metadata": {},
   "outputs": [
    {
     "name": "stdout",
     "output_type": "stream",
     "text": [
      "Original Article:\n",
      " Ever noticed how plane seats appear to be getting smaller and smaller? With increasing numbers of people taking to the skies, some experts are questioning if having such packed out planes is putting passengers at risk. They say that the shrinking space on aeroplanes is not only uncomfortable - it's putting our health and safety in danger. More than squabbling over the arm rest, shrinking space on planes putting our health and safety in danger? This week, a U.S consumer advisory group set up by the Department of Transportation said at a public hearing that while the government is happy to set standards for animals flying on planes, it doesn't stipulate a minimum amount of space for humans. 'In a world where animals have more rights to space and food than humans,' said Charlie Leocha, consumer representative on the committee. 'It is time that the DOT and FAA take a stand for humane treatment of passengers.' But could crowding on planes lead to more serious issues than fighting for space in the overhead lockers, crashing elbows and seat back kicking? Tests conducted by the FAA use planes with a 31 inch pitch, a standard which on some airlines has decreased . Many economy seats on United Airlines have 30 inches of room, while some airlines offer as little as 28 inches . Cynthia Corbertt, a human factors researcher with the Federal Aviation Administration, that it conducts tests on how quickly passengers can leave a plane. But these tests are conducted using planes with 31 inches between each row of seats, a standard which on some airlines has decreased, reported the Detroit News. The distance between two seats from one point on a seat to the same point on the seat behind it is known as the pitch. While most airlines stick to a pitch of 31 inches or above, some fall below this. While United Airlines has 30 inches of space, Gulf Air economy seats have between 29 and 32 inches, Air Asia offers 29 inches and Spirit Airlines offers just 28 inches. British Airways has a seat pitch of 31 inches, while easyJet has 29 inches, Thomson's short haul seat pitch is 28 inches, and Virgin Atlantic's is 30-31.\n"
     ]
    }
   ],
   "source": [
    "# Example: take the first article from the dataset\n",
    "text = df['article'][0]\n",
    "print(\"Original Article:\\n\", text)"
   ]
  },
  {
   "cell_type": "code",
   "execution_count": 11,
   "id": "bc432ef8-42eb-4c3a-8ff6-2a3aa78a98d8",
   "metadata": {},
   "outputs": [
    {
     "name": "stdout",
     "output_type": "stream",
     "text": [
      "\n",
      "Total Sentences: 16\n",
      "\n",
      "Sample Sentence: ever noticed how plane seats appear to be getting smaller and smaller \n"
     ]
    },
    {
     "name": "stderr",
     "output_type": "stream",
     "text": [
      "[nltk_data] Downloading package punkt to\n",
      "[nltk_data]     C:\\Users\\hp\\AppData\\Roaming\\nltk_data...\n",
      "[nltk_data]   Package punkt is already up-to-date!\n"
     ]
    }
   ],
   "source": [
    "# STEP 2: Preprocess text\n",
    "import nltk\n",
    "import re\n",
    "\n",
    "# Download punkt if not already\n",
    "nltk.download('punkt')\n",
    "\n",
    "# Split the article into sentences\n",
    "sentences = nltk.sent_tokenize(text)\n",
    "\n",
    "# Clean sentences (remove special chars, numbers, etc.)\n",
    "clean_sentences = [re.sub(r'[^a-zA-Z]', ' ', s) for s in sentences]\n",
    "clean_sentences = [s.lower() for s in clean_sentences]\n",
    "\n",
    "print(\"\\nTotal Sentences:\", len(clean_sentences))\n",
    "print(\"\\nSample Sentence:\", clean_sentences[0])"
   ]
  },
  {
   "cell_type": "code",
   "execution_count": 13,
   "id": "ea6c130a-f5ca-4aab-970f-75a920ba2397",
   "metadata": {},
   "outputs": [
    {
     "name": "stdout",
     "output_type": "stream",
     "text": [
      "\n",
      "Sentence Vectors Shape: (16, 177)\n"
     ]
    }
   ],
   "source": [
    "# STEP 3: Sentence Vectors using TF-IDF\n",
    "from sklearn.feature_extraction.text import TfidfVectorizer\n",
    "\n",
    "vectorizer = TfidfVectorizer()\n",
    "sentence_vectors = vectorizer.fit_transform(clean_sentences)\n",
    "\n",
    "print(\"\\nSentence Vectors Shape:\", sentence_vectors.shape)"
   ]
  },
  {
   "cell_type": "code",
   "execution_count": 15,
   "id": "edb067a8-8976-42f5-8266-e1037a944324",
   "metadata": {},
   "outputs": [
    {
     "name": "stdout",
     "output_type": "stream",
     "text": [
      "\n",
      "Graph created with 16 nodes and 114 edges.\n"
     ]
    }
   ],
   "source": [
    "# STEP 4: Build the Similarity Graph\n",
    "from sklearn.metrics.pairwise import cosine_similarity\n",
    "import networkx as nx\n",
    "\n",
    "# Compute similarity matrix\n",
    "similarity_matrix = cosine_similarity(sentence_vectors)\n",
    "\n",
    "# Create graph\n",
    "similarity_graph = nx.Graph()\n",
    "\n",
    "# Add edges between sentences based on similarity\n",
    "for i in range(len(sentences)):\n",
    "    for j in range(i + 1, len(sentences)):\n",
    "        if similarity_matrix[i][j] > 0:\n",
    "            similarity_graph.add_edge(i, j, weight=similarity_matrix[i][j])\n",
    "\n",
    "print(\"\\nGraph created with\", len(similarity_graph.nodes()), \"nodes and\", len(similarity_graph.edges()), \"edges.\")"
   ]
  },
  {
   "cell_type": "code",
   "execution_count": 17,
   "id": "4c6710af-85fb-4214-8c2f-284a7552a52e",
   "metadata": {},
   "outputs": [
    {
     "name": "stdout",
     "output_type": "stream",
     "text": [
      "\n",
      "Top 3 Sentences (Preview):\n",
      "- But these tests are conducted using planes with 31 inches between each row of seats, a standard which on some airlines has decreased, reported the Detroit News.\n",
      "- Tests conducted by the FAA use planes with a 31 inch pitch, a standard which on some airlines has decreased .\n",
      "- While United Airlines has 30 inches of space, Gulf Air economy seats have between 29 and 32 inches, Air Asia offers 29 inches and Spirit Airlines offers just 28 inches.\n"
     ]
    }
   ],
   "source": [
    "# STEP 5: Run PageRank\n",
    "scores = nx.pagerank(similarity_graph)\n",
    "\n",
    "# Rank sentences based on scores\n",
    "ranked_sentences = sorted(((scores[i], s) for i, s in enumerate(sentences)), reverse=True)\n",
    "\n",
    "print(\"\\nTop 3 Sentences (Preview):\")\n",
    "for i in range(3):\n",
    "    print(\"-\", ranked_sentences[i][1])"
   ]
  },
  {
   "cell_type": "code",
   "execution_count": 19,
   "id": "572b7255-ae77-485a-9a35-db95c91243e6",
   "metadata": {},
   "outputs": [
    {
     "name": "stdout",
     "output_type": "stream",
     "text": [
      "\n",
      "--- FINAL SUMMARY ---\n",
      "\n",
      "Tests conducted by the FAA use planes with a 31 inch pitch, a standard which on some airlines has decreased . Many economy seats on United Airlines have 30 inches of room, while some airlines offer as little as 28 inches . But these tests are conducted using planes with 31 inches between each row of seats, a standard which on some airlines has decreased, reported the Detroit News. While United Airlines has 30 inches of space, Gulf Air economy seats have between 29 and 32 inches, Air Asia offers 29 inches and Spirit Airlines offers just 28 inches. British Airways has a seat pitch of 31 inches, while easyJet has 29 inches, Thomson's short haul seat pitch is 28 inches, and Virgin Atlantic's is 30-31.\n",
      "\n",
      "--- REFERENCE SUMMARY ---\n",
      "\n",
      "Experts question if  packed out planes are putting passengers at risk .\n",
      "U.S consumer advisory group says minimum space must be stipulated .\n",
      "Safety tests conducted on planes with more leg room than airlines offer .\n"
     ]
    }
   ],
   "source": [
    "# STEP 6: Extract Summary\n",
    "num_sentences = 5  # number of sentences to include in summary\n",
    "\n",
    "# Pick top-ranked sentences\n",
    "top_sentences = sorted(ranked_sentences[:num_sentences], key=lambda x: sentences.index(x[1]))\n",
    "\n",
    "# Combine them into a summary\n",
    "summary = ' '.join([s for _, s in top_sentences])\n",
    "\n",
    "print(\"\\n--- FINAL SUMMARY ---\\n\")\n",
    "print(summary)\n",
    "\n",
    "# Optional: Compare with actual highlight\n",
    "print(\"\\n--- REFERENCE SUMMARY ---\\n\")\n",
    "print(df['highlights'][0])"
   ]
  },
  {
   "cell_type": "code",
   "execution_count": null,
   "id": "978d8426-06af-4e38-97bf-33f437194504",
   "metadata": {},
   "outputs": [],
   "source": []
  }
 ],
 "metadata": {
  "kernelspec": {
   "display_name": "Python [conda env:base] *",
   "language": "python",
   "name": "conda-base-py"
  },
  "language_info": {
   "codemirror_mode": {
    "name": "ipython",
    "version": 3
   },
   "file_extension": ".py",
   "mimetype": "text/x-python",
   "name": "python",
   "nbconvert_exporter": "python",
   "pygments_lexer": "ipython3",
   "version": "3.12.7"
  }
 },
 "nbformat": 4,
 "nbformat_minor": 5
}
